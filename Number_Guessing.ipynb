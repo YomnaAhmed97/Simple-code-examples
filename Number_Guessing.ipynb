{
  "nbformat": 4,
  "nbformat_minor": 0,
  "metadata": {
    "colab": {
      "provenance": [],
      "authorship_tag": "ABX9TyPSpoWXQYNz0ipCjP4L+ALX",
      "include_colab_link": true
    },
    "kernelspec": {
      "name": "python3",
      "display_name": "Python 3"
    },
    "language_info": {
      "name": "python"
    }
  },
  "cells": [
    {
      "cell_type": "markdown",
      "metadata": {
        "id": "view-in-github",
        "colab_type": "text"
      },
      "source": [
        "<a href=\"https://colab.research.google.com/github/YomnaAhmed97/Simple-code-examples/blob/main/Number_Guessing.ipynb\" target=\"_parent\"><img src=\"https://colab.research.google.com/assets/colab-badge.svg\" alt=\"Open In Colab\"/></a>"
      ]
    },
    {
      "cell_type": "code",
      "execution_count": 15,
      "metadata": {
        "id": "8C6UWKglEJ85"
      },
      "outputs": [],
      "source": [
        "import random\n",
        "import time"
      ]
    },
    {
      "cell_type": "code",
      "source": [
        "print(\"Welcome to game ^_^\")"
      ],
      "metadata": {
        "colab": {
          "base_uri": "https://localhost:8080/"
        },
        "id": "lTED6vqqESRm",
        "outputId": "46d64a5e-f9b2-4ee3-f134-e43eb5c3395f"
      },
      "execution_count": 16,
      "outputs": [
        {
          "output_type": "stream",
          "name": "stdout",
          "text": [
            "Welcome to game ^_^\n"
          ]
        }
      ]
    },
    {
      "cell_type": "code",
      "source": [
        "time.sleep(2)\n",
        "n = random.randint(1,10)"
      ],
      "metadata": {
        "id": "AiC-pmJsEe4u"
      },
      "execution_count": 17,
      "outputs": []
    },
    {
      "cell_type": "code",
      "source": [
        "print(\"Number has been generated \\nGuess number from 1 to 10 \\nYou have 3 chance\")"
      ],
      "metadata": {
        "colab": {
          "base_uri": "https://localhost:8080/"
        },
        "id": "4_3TXCbaEowr",
        "outputId": "c271bc4b-b9c4-4ba8-ec20-3972f0d2af60"
      },
      "execution_count": 34,
      "outputs": [
        {
          "output_type": "stream",
          "name": "stdout",
          "text": [
            "Number has been generated \n",
            "Guess number from 1 to 10 \n",
            "You have 3 chance\n"
          ]
        }
      ]
    },
    {
      "cell_type": "code",
      "source": [
        "for i in range (0,3):\n",
        "  a =int(input(\"Guess the Number: \"))\n",
        "  if a==n:\n",
        "    print(\"That's write\", \"You won\")\n",
        "    break\n",
        "  elif a > n:\n",
        "    print('The number is less than ', a)\n",
        "  else:\n",
        "    print('The number is greater than ', a)\n",
        "  i=-1\n",
        "  \n"
      ],
      "metadata": {
        "colab": {
          "base_uri": "https://localhost:8080/"
        },
        "id": "GsH4TuKoFJsD",
        "outputId": "a28e0409-b059-4700-b977-31a88c792744"
      },
      "execution_count": 40,
      "outputs": [
        {
          "output_type": "stream",
          "name": "stdout",
          "text": [
            "Guess the Number: 5\n",
            "The number is less than  5\n",
            "Guess the Number: 3\n",
            "The number is greater than  3\n",
            "Guess the Number: 4\n",
            "That's write You won\n"
          ]
        }
      ]
    },
    {
      "cell_type": "code",
      "source": [],
      "metadata": {
        "id": "HdXDAqy6GL7u"
      },
      "execution_count": 20,
      "outputs": []
    }
  ]
}