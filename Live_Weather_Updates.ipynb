{
  "nbformat": 4,
  "nbformat_minor": 0,
  "metadata": {
    "colab": {
      "provenance": [],
      "authorship_tag": "ABX9TyMTC1S3+hnPIEbdQfnKwAEt",
      "include_colab_link": true
    },
    "kernelspec": {
      "name": "python3",
      "display_name": "Python 3"
    },
    "language_info": {
      "name": "python"
    }
  },
  "cells": [
    {
      "cell_type": "markdown",
      "metadata": {
        "id": "view-in-github",
        "colab_type": "text"
      },
      "source": [
        "<a href=\"https://colab.research.google.com/github/YomnaAhmed97/Simple-code-examples/blob/main/Live_Weather_Updates.ipynb\" target=\"_parent\"><img src=\"https://colab.research.google.com/assets/colab-badge.svg\" alt=\"Open In Colab\"/></a>"
      ]
    },
    {
      "cell_type": "markdown",
      "source": [
        "# Overview\n",
        "A user gives the name of a city and gets live weather updates about that city as an output."
      ],
      "metadata": {
        "id": "qklQTOgFzQ9M"
      }
    },
    {
      "cell_type": "markdown",
      "source": [
        "We are searching for a city on Google, and then we are scraping the data about that particular city concerning location, time, info, and weather"
      ],
      "metadata": {
        "id": "IsQwTTvh0u_5"
      }
    },
    {
      "cell_type": "code",
      "execution_count": 1,
      "metadata": {
        "id": "Sm5NyGSSyc-b"
      },
      "outputs": [],
      "source": [
        "from bs4 import BeautifulSoup\n",
        "import requests"
      ]
    },
    {
      "cell_type": "code",
      "source": [
        "headers = {'User-Agent': 'Mozilla/5.0 (Windows NT 10.0; Win64; x64) AppleWebKit/537.36 (KHTML, like Gecko) Chrome/58.0.3029.110 Safari/537.3'}\n"
      ],
      "metadata": {
        "id": "UFLypXaTzfFH"
      },
      "execution_count": 2,
      "outputs": []
    },
    {
      "cell_type": "code",
      "source": [
        "def weather(city):\n",
        "  city=city.replace(\" \",\"+\")\n",
        "  res = requests.get(f'https://www.google.com/search?q={city}&oq={city}&aqs=chrome.0.35i39l2j0l4j46j69i60.6128j1j7&sourceid=chrome&ie=UTF-8',headers=headers)\n",
        "  print(\"Searching......\\n\")\n",
        "  soup=BeautifulSoup(res.text,'html.parser')\n",
        "  location = soup.select('#wob_loc')[0].getText().strip()  \n",
        "  time = soup.select('#wob_dts')[0].getText().strip()       \n",
        "  info = soup.select('#wob_dc')[0].getText().strip() \n",
        "  weather = soup.select('#wob_tm')[0].getText().strip()\n",
        "  print(location)\n",
        "  print(time)\n",
        "  print(info)\n",
        "  print(weather+\"°C\") \n"
      ],
      "metadata": {
        "id": "wiJXsOoizln8"
      },
      "execution_count": 3,
      "outputs": []
    },
    {
      "cell_type": "code",
      "source": [
        "city=input(\"Enter the Name of Any City >>  \")\n",
        "city=city+\" weather\"\n",
        "weather(city)"
      ],
      "metadata": {
        "colab": {
          "base_uri": "https://localhost:8080/"
        },
        "id": "HeZfeIhR0__J",
        "outputId": "bda203e7-ce1a-4c10-8744-60d7b371795c"
      },
      "execution_count": 6,
      "outputs": [
        {
          "output_type": "stream",
          "name": "stdout",
          "text": [
            "Enter the Name of Any City >>  Alexandria\n",
            "Searching......\n",
            "\n",
            "Alexandrië, Egypte\n",
            "dinsdag 14:00\n",
            "Gedeeltelijk bewolkt\n",
            "31°C\n"
          ]
        }
      ]
    },
    {
      "cell_type": "code",
      "source": [],
      "metadata": {
        "id": "yMp-PkA_1Ldp"
      },
      "execution_count": null,
      "outputs": []
    }
  ]
}