{
  "nbformat": 4,
  "nbformat_minor": 0,
  "metadata": {
    "colab": {
      "name": "Convert-emoji-into-text.ipynb",
      "provenance": [],
      "authorship_tag": "ABX9TyPeFkX9ZtYFM8FMYVGynZnu",
      "include_colab_link": true
    },
    "kernelspec": {
      "name": "python3",
      "display_name": "Python 3"
    },
    "language_info": {
      "name": "python"
    }
  },
  "cells": [
    {
      "cell_type": "markdown",
      "metadata": {
        "id": "view-in-github",
        "colab_type": "text"
      },
      "source": [
        "<a href=\"https://colab.research.google.com/github/YomnaAhmed97/Simple-code-examples/blob/main/Convert_emoji_into_text.ipynb\" target=\"_parent\"><img src=\"https://colab.research.google.com/assets/colab-badge.svg\" alt=\"Open In Colab\"/></a>"
      ]
    },
    {
      "cell_type": "code",
      "execution_count": 1,
      "metadata": {
        "colab": {
          "base_uri": "https://localhost:8080/"
        },
        "id": "bks2VfAWAOqf",
        "outputId": "ffcca39a-6543-498c-9cff-7b238e249092"
      },
      "outputs": [
        {
          "output_type": "stream",
          "name": "stdout",
          "text": [
            "Looking in indexes: https://pypi.org/simple, https://us-python.pkg.dev/colab-wheels/public/simple/\n",
            "Collecting demoji\n",
            "  Downloading demoji-1.1.0-py3-none-any.whl (42 kB)\n",
            "\u001b[K     |████████████████████████████████| 42 kB 423 kB/s \n",
            "\u001b[?25hInstalling collected packages: demoji\n",
            "Successfully installed demoji-1.1.0\n"
          ]
        }
      ],
      "source": [
        "!pip install demoji"
      ]
    },
    {
      "cell_type": "code",
      "source": [
        "# Importing library\n",
        "import demoji\n",
        "text = \"IN 😂😅😜🥳😘🧘‍♀️\"\n",
        "demoji.findall(text)\n"
      ],
      "metadata": {
        "colab": {
          "base_uri": "https://localhost:8080/"
        },
        "id": "vs9m5RejAayf",
        "outputId": "3e120796-c8e7-42b9-984c-232e6dd99f7e"
      },
      "execution_count": 2,
      "outputs": [
        {
          "output_type": "execute_result",
          "data": {
            "text/plain": [
              "{'😂': 'face with tears of joy',\n",
              " '😅': 'grinning face with sweat',\n",
              " '😘': 'face blowing a kiss',\n",
              " '😜': 'winking face with tongue',\n",
              " '🥳': 'partying face',\n",
              " '🧘\\u200d♀️': 'woman in lotus position'}"
            ]
          },
          "metadata": {},
          "execution_count": 2
        }
      ]
    },
    {
      "cell_type": "code",
      "source": [
        ""
      ],
      "metadata": {
        "id": "1OdpbrLZBVBa"
      },
      "execution_count": null,
      "outputs": []
    }
  ]
}