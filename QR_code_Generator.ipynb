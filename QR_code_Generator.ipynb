{
  "nbformat": 4,
  "nbformat_minor": 0,
  "metadata": {
    "colab": {
      "name": "QR-code-Generator.ipynb",
      "provenance": [],
      "authorship_tag": "ABX9TyM0MNc90V1w6Zbkrh5Sm6Yy",
      "include_colab_link": true
    },
    "kernelspec": {
      "name": "python3",
      "display_name": "Python 3"
    },
    "language_info": {
      "name": "python"
    }
  },
  "cells": [
    {
      "cell_type": "markdown",
      "metadata": {
        "id": "view-in-github",
        "colab_type": "text"
      },
      "source": [
        "<a href=\"https://colab.research.google.com/github/YomnaAhmed97/Simple-code-examples/blob/main/QR_code_Generator.ipynb\" target=\"_parent\"><img src=\"https://colab.research.google.com/assets/colab-badge.svg\" alt=\"Open In Colab\"/></a>"
      ]
    },
    {
      "cell_type": "code",
      "execution_count": 1,
      "metadata": {
        "colab": {
          "base_uri": "https://localhost:8080/"
        },
        "id": "F1VnVMLL81Xq",
        "outputId": "0bf5f2cb-5f69-4f43-e5aa-d7af331f5c09"
      },
      "outputs": [
        {
          "output_type": "stream",
          "name": "stdout",
          "text": [
            "Looking in indexes: https://pypi.org/simple, https://us-python.pkg.dev/colab-wheels/public/simple/\n",
            "Collecting qrcode\n",
            "  Downloading qrcode-7.3.1.tar.gz (43 kB)\n",
            "\u001b[K     |████████████████████████████████| 43 kB 1.9 MB/s \n",
            "\u001b[?25hBuilding wheels for collected packages: qrcode\n",
            "  Building wheel for qrcode (setup.py) ... \u001b[?25l\u001b[?25hdone\n",
            "  Created wheel for qrcode: filename=qrcode-7.3.1-py3-none-any.whl size=40402 sha256=30e3355e777e1e4b3a6df17aefa42b83218ae4ea2a5cb243ca10e0ba18d9263d\n",
            "  Stored in directory: /root/.cache/pip/wheels/93/d7/39/a4111be2cfb8e679938aa671a37888b6afb1f9e7d748e94492\n",
            "Successfully built qrcode\n",
            "Installing collected packages: qrcode\n",
            "Successfully installed qrcode-7.3.1\n"
          ]
        }
      ],
      "source": [
        "!pip install qrcode\n"
      ]
    },
    {
      "cell_type": "code",
      "source": [
        "# Importing library\n",
        "import qrcode\n",
        " \n",
        "# Data to be encoded\n",
        "data = 'QR Code using make() function'\n",
        " \n",
        "# Encoding data using make() function\n",
        "img = qrcode.make(data)\n",
        " \n",
        "# Saving as an image file\n",
        "img.save('MyQRCode1.png')"
      ],
      "metadata": {
        "id": "NZ0dBhtA9OLo"
      },
      "execution_count": 3,
      "outputs": []
    },
    {
      "cell_type": "code",
      "source": [
        ""
      ],
      "metadata": {
        "id": "l3ENvM3o9lx6"
      },
      "execution_count": null,
      "outputs": []
    }
  ]
}