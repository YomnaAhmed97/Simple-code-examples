{
  "nbformat": 4,
  "nbformat_minor": 0,
  "metadata": {
    "colab": {
      "name": "Sudoku-Solver.ipynb",
      "provenance": [],
      "collapsed_sections": [],
      "authorship_tag": "ABX9TyNBiZ7XCccl4LCnMgRXcdCs",
      "include_colab_link": true
    },
    "kernelspec": {
      "name": "python3",
      "display_name": "Python 3"
    },
    "language_info": {
      "name": "python"
    }
  },
  "cells": [
    {
      "cell_type": "markdown",
      "metadata": {
        "id": "view-in-github",
        "colab_type": "text"
      },
      "source": [
        "<a href=\"https://colab.research.google.com/github/YomnaAhmed97/Simple-code-examples/blob/main/Sudoku_Solver.ipynb\" target=\"_parent\"><img src=\"https://colab.research.google.com/assets/colab-badge.svg\" alt=\"Open In Colab\"/></a>"
      ]
    },
    {
      "cell_type": "code",
      "execution_count": 1,
      "metadata": {
        "id": "S-CmFB_Jigx1"
      },
      "outputs": [],
      "source": [
        "import numpy as np"
      ]
    },
    {
      "cell_type": "code",
      "source": [
        "  grid = [[5,3,0,0,7,0,0,0,0],\n",
        "         [6,0,0,1,9,5,0,0,0],\n",
        "         [0,9,8,0,0,0,0,6,0],\n",
        "         [8,0,0,0,6,0,0,0,3],\n",
        "         [4,0,0,8,0,3,0,0,1],\n",
        "         [7,0,0,0,2,0,0,0,6],\n",
        "         [0,6,0,0,0,0,2,8,0],\n",
        "         [0,0,0,0,1,9,0,0,5],\n",
        "         [0,0,0,0,0,0,0,0,0]]"
      ],
      "metadata": {
        "id": "mIX_8WsTnfvu"
      },
      "execution_count": 2,
      "outputs": []
    },
    {
      "cell_type": "code",
      "source": [
        "print(np.matrix(grid))"
      ],
      "metadata": {
        "colab": {
          "base_uri": "https://localhost:8080/"
        },
        "id": "Vz8WGtScnhni",
        "outputId": "41e8c48b-4d29-413d-a4c2-c12fdba63b69"
      },
      "execution_count": 3,
      "outputs": [
        {
          "output_type": "stream",
          "name": "stdout",
          "text": [
            "[[5 3 0 0 7 0 0 0 0]\n",
            " [6 0 0 1 9 5 0 0 0]\n",
            " [0 9 8 0 0 0 0 6 0]\n",
            " [8 0 0 0 6 0 0 0 3]\n",
            " [4 0 0 8 0 3 0 0 1]\n",
            " [7 0 0 0 2 0 0 0 6]\n",
            " [0 6 0 0 0 0 2 8 0]\n",
            " [0 0 0 0 1 9 0 0 5]\n",
            " [0 0 0 0 0 0 0 0 0]]\n"
          ]
        }
      ]
    },
    {
      "cell_type": "code",
      "source": [
        "def possible_solns(row,col,num):\n",
        "  global grid\n",
        " \n",
        "  #Is number appers in a given row?\n",
        "  for i in range(0,9):\n",
        "    if grid[row][i]==num:\n",
        "     return False\n",
        "  #Is number appers in a given column?\n",
        "  for i in range(0,9):\n",
        "    if grid [i][col]==num:\n",
        "      return False\n",
        "  #Is number appers in a given square?\n",
        "  x= (col // 3) * 3\n",
        "  y= (row // 3) * 3\n",
        "  for i in range(0,3):\n",
        "    for j in range(0,3):\n",
        "      if grid[y+i][x+j]==num:\n",
        "       return False\n",
        "  return True"
      ],
      "metadata": {
        "id": "U6ghg8lFiveh"
      },
      "execution_count": 4,
      "outputs": []
    },
    {
      "cell_type": "code",
      "source": [
        "def solve():\n",
        "  global grid\n",
        "  for row in range(0,9):\n",
        "    for col in range(0,9):\n",
        "      if grid[row][col]==0:\n",
        "        for num in range(1,10):\n",
        "          if possible_solns(row,col,num):\n",
        "            grid[row][col]=num\n",
        "            solve()\n",
        "            #if stuck\n",
        "            grid[row][col] = 0\n",
        "        return\n",
        "    print(np.matrix(grid))\n",
        "    input('More possible solutions')\n"
      ],
      "metadata": {
        "id": "8b8qi-rOnyrp"
      },
      "execution_count": 10,
      "outputs": []
    },
    {
      "cell_type": "code",
      "source": [
        "solve()"
      ],
      "metadata": {
        "colab": {
          "base_uri": "https://localhost:8080/"
        },
        "id": "QwLMtjnapCCf",
        "outputId": "cbaf622e-2ef7-47cd-ddcc-bfc0c07672cb"
      },
      "execution_count": 12,
      "outputs": [
        {
          "name": "stdout",
          "output_type": "stream",
          "text": [
            "[[5 3 1 2 7 6 4 9 8]\n",
            " [6 2 4 1 9 5 3 0 0]\n",
            " [0 9 8 0 0 0 0 6 0]\n",
            " [8 0 0 0 6 0 0 0 3]\n",
            " [4 0 0 8 0 3 0 0 1]\n",
            " [7 0 0 0 2 0 0 0 6]\n",
            " [0 6 0 0 0 0 2 8 0]\n",
            " [0 0 0 0 1 9 0 0 5]\n",
            " [0 0 0 0 0 0 0 0 0]]\n",
            "More possible solutions\n",
            "[[5 3 1 2 7 6 4 9 8]\n",
            " [6 2 4 1 9 5 3 7 0]\n",
            " [0 9 8 0 0 0 0 6 0]\n",
            " [8 0 0 0 6 0 0 0 3]\n",
            " [4 0 0 8 0 3 0 0 1]\n",
            " [7 0 0 0 2 0 0 0 6]\n",
            " [0 6 0 0 0 0 2 8 0]\n",
            " [0 0 0 0 1 9 0 0 5]\n",
            " [0 0 0 0 0 0 0 0 0]]\n",
            "More possible solutions\n"
          ]
        }
      ]
    },
    {
      "cell_type": "code",
      "source": [
        ""
      ],
      "metadata": {
        "id": "LXplGvvrp02j"
      },
      "execution_count": null,
      "outputs": []
    }
  ]
}